{
 "cells": [
  {
   "cell_type": "code",
   "execution_count": 8,
   "metadata": {},
   "outputs": [
    {
     "name": "stdout",
     "output_type": "stream",
     "text": [
      "Name of the candidate is Bharathvaj \n",
      "Age of the candidate 20 \t role--Student\n"
     ]
    }
   ],
   "source": [
    "name=\"Bharathvaj\"\n",
    "age=20\n",
    "role=\"Student\"\n",
    "print(\"Name of the candidate is %s \\nAge of the candidate %d \\t role--%s\"%(name,age,role))"
   ]
  },
  {
   "cell_type": "code",
   "execution_count": 22,
   "metadata": {},
   "outputs": [
    {
     "name": "stdout",
     "output_type": "stream",
     "text": [
      "The second number is greater\n",
      "7 30\n"
     ]
    }
   ],
   "source": [
    "a=10\n",
    "b=20\n",
    "if (a==b):\n",
    "    print (\"\"\"The numbers are equal\"\"\")\n",
    "elif (a>b):\n",
    "    print(\"\"\"The first number is greater\"\"\")\n",
    "else:\n",
    "    print(\"\"\"The second number is greater\"\"\")\n",
    "print(7&15,a|b)"
   ]
  },
  {
   "cell_type": "code",
   "execution_count": 18,
   "metadata": {},
   "outputs": [
    {
     "name": "stdout",
     "output_type": "stream",
     "text": [
      "its in or type\n",
      "A is zero\n"
     ]
    }
   ],
   "source": [
    "a,b=0,1\n",
    "if (a&b):\n",
    "    print(\"its in and type\")\n",
    "elif (a|b):\n",
    "    print(\"its in or type\")\n",
    "if (~(a)):\n",
    "    print(\"A is zero\")"
   ]
  },
  {
   "cell_type": "code",
   "execution_count": 28,
   "metadata": {},
   "outputs": [
    {
     "name": "stdout",
     "output_type": "stream",
     "text": [
      "25 1 1.25 1 20\n"
     ]
    }
   ],
   "source": [
    "a,b,c=5,4,2\n",
    "print(a**c,a//b,a/b,a>>c,a<<c)"
   ]
  },
  {
   "cell_type": "code",
   "execution_count": null,
   "metadata": {},
   "outputs": [],
   "source": []
  }
 ],
 "metadata": {
  "kernelspec": {
   "display_name": "Python 3",
   "language": "python",
   "name": "python3"
  },
  "language_info": {
   "codemirror_mode": {
    "name": "ipython",
    "version": 3
   },
   "file_extension": ".py",
   "mimetype": "text/x-python",
   "name": "python",
   "nbconvert_exporter": "python",
   "pygments_lexer": "ipython3",
   "version": "3.7.6"
  }
 },
 "nbformat": 4,
 "nbformat_minor": 4
}
