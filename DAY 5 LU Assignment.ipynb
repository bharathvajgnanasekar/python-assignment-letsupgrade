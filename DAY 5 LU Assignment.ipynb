{
 "cells": [
  {
   "cell_type": "code",
   "execution_count": 10,
   "metadata": {},
   "outputs": [
    {
     "name": "stdout",
     "output_type": "stream",
     "text": [
      "2\n",
      "2\n",
      "3\n",
      "4\n",
      "5\n",
      "8\n",
      "12\n",
      "0\n",
      "0\n"
     ]
    }
   ],
   "source": [
    "a=[0,2,5,8,0,12,2,4,3]\n",
    "j=0\n",
    "k=len(a)\n",
    "for i in range (k-j):\n",
    "    if (i==k-j):\n",
    "        break;\n",
    "    if (a[i]==0):\n",
    "        temp=a[i]\n",
    "        a[i]=a[k-j-1]\n",
    "        a[k-1-j]=temp\n",
    "        j+=1    \n",
    "for i in range (0,k-j):\n",
    "    for z in range (i+1,k-j):\n",
    "        if (a[i]>a[z]):\n",
    "            temp=a[i]\n",
    "            a[i]=a[z]\n",
    "            a[z]=temp\n",
    "for i in range (k):\n",
    "    print(a[i] )"
   ]
  },
  {
   "cell_type": "code",
   "execution_count": 22,
   "metadata": {
    "scrolled": true
   },
   "outputs": [
    {
     "name": "stdout",
     "output_type": "stream",
     "text": [
      "15\n",
      "25\n",
      "35\n",
      "40\n",
      "10\n",
      "20\n",
      "30\n",
      "50\n",
      "55\n"
     ]
    }
   ],
   "source": [
    "a=[10,20,30,50]\n",
    "b=[15,25,35,40,55]\n",
    "c=[]\n",
    "l=len(a)+len(b)\n",
    "j,k=0,0\n",
    "for i in range (l):\n",
    "    if (j<len(a)&k<len(b)):\n",
    "        if (a[j]<b[k]):\n",
    "            c.append(a[j])\n",
    "            j+=1\n",
    "        elif (a[j]>b[k]):\n",
    "            c.append(b[k])\n",
    "            k+=1\n",
    "    else:\n",
    "        if (k<len(b)):\n",
    "            c.append(b[k])\n",
    "            k+=1\n",
    "        elif(j<len(a)):\n",
    "            c.append(a[j])\n",
    "            j+=1\n",
    "for i in range (l):\n",
    "    print(c[i])"
   ]
  },
  {
   "cell_type": "code",
   "execution_count": null,
   "metadata": {},
   "outputs": [],
   "source": []
  }
 ],
 "metadata": {
  "kernelspec": {
   "display_name": "Python 3",
   "language": "python",
   "name": "python3"
  },
  "language_info": {
   "codemirror_mode": {
    "name": "ipython",
    "version": 3
   },
   "file_extension": ".py",
   "mimetype": "text/x-python",
   "name": "python",
   "nbconvert_exporter": "python",
   "pygments_lexer": "ipython3",
   "version": "3.7.6"
  }
 },
 "nbformat": 4,
 "nbformat_minor": 4
}
