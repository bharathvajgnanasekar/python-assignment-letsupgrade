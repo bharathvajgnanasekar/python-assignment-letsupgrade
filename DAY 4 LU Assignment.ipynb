{
 "cells": [
  {
   "cell_type": "code",
   "execution_count": 4,
   "metadata": {},
   "outputs": [
    {
     "name": "stdout",
     "output_type": "stream",
     "text": [
      "Enter the string:we think what we become\n",
      "Enter the substring:w\n",
      "0\n",
      "9\n",
      "14\n"
     ]
    }
   ],
   "source": [
    "st=input(\"Enter the string:\")\n",
    "subst=input(\"Enter the substring:\")\n",
    "a,b,i=0,0,1\n",
    "while(True):\n",
    "    a=st.find(subst)\n",
    "    if a!=-1:\n",
    "        print(a+b)\n",
    "        st=st[a+1:]\n",
    "        b=a+i\n",
    "        i+=1\n",
    "    else:\n",
    "        break"
   ]
  },
  {
   "cell_type": "code",
   "execution_count": 18,
   "metadata": {},
   "outputs": [
    {
     "name": "stdout",
     "output_type": "stream",
     "text": [
      "False True\n",
      "True False\n",
      "False False\n",
      "False True\n"
     ]
    }
   ],
   "source": [
    "s=\"bharath\"\n",
    "s1='PYTHON'\n",
    "st=\"Name123\"\n",
    "st1='age#^%*0'\n",
    "print(s.isupper(),s.islower())\n",
    "print(s1.isupper(),s1.islower())\n",
    "print(st.isupper(),st.islower())\n",
    "print(st1.isupper(),st1.islower())"
   ]
  },
  {
   "cell_type": "code",
   "execution_count": null,
   "metadata": {},
   "outputs": [],
   "source": []
  }
 ],
 "metadata": {
  "kernelspec": {
   "display_name": "Python 3",
   "language": "python",
   "name": "python3"
  },
  "language_info": {
   "codemirror_mode": {
    "name": "ipython",
    "version": 3
   },
   "file_extension": ".py",
   "mimetype": "text/x-python",
   "name": "python",
   "nbconvert_exporter": "python",
   "pygments_lexer": "ipython3",
   "version": "3.7.6"
  }
 },
 "nbformat": 4,
 "nbformat_minor": 4
}
